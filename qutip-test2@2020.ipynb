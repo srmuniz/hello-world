{
 "cells": [
  {
   "cell_type": "code",
   "execution_count": null,
   "metadata": {
    "scrolled": true
   },
   "outputs": [
    {
     "name": "stdout",
     "output_type": "stream",
     "text": [
      "\n",
      "QuTiP: Quantum Toolbox in Python\n",
      "================================\n",
      "Copyright (c) QuTiP team 2011 and later.\n",
      "Original developers: R. J. Johansson & P. D. Nation.\n",
      "Current admin team: Alexander Pitchford, Paul D. Nation, Nathan Shammah, Shahnawaz Ahmed, Neill Lambert, and Eric Giguère.\n",
      "Project Manager: Franco Nori.\n",
      "Currently developed through wide collaboration. See https://github.com/qutip for details.\n",
      "\n",
      "QuTiP Version:      4.4.1\n",
      "Numpy Version:      1.17.4\n",
      "Scipy Version:      1.3.2\n",
      "Cython Version:     0.29.14\n",
      "Matplotlib Version: 3.1.1\n",
      "Python Version:     3.6.9\n",
      "Number of CPUs:     2\n",
      "BLAS Info:          INTEL MKL\n",
      "OPENMP Installed:   False\n",
      "INTEL MKL Ext:      True\n",
      "Platform Info:      Windows (AMD64)\n",
      "Installation path:  C:\\Users\\SergioMuniz\\.julia\\conda\\3\\lib\\site-packages\\qutip\n",
      "==============================================================================\n",
      "Please cite QuTiP in your publication.\n",
      "==============================================================================\n",
      "For your convenience a bibtex reference can be easily generated using `qutip.cite()`\n"
     ]
    },
    {
     "name": "stderr",
     "output_type": "stream",
     "text": [
      "DEBUG:qutip.logging_utils:Creating logger for qutip.control.grape with policy basic.\n",
      "DEBUG:qutip.logging_utils:Creating logger for qutip.control.optimconfig with policy basic.\n",
      "DEBUG:qutip.logging_utils:Creating logger for qutip.control.dynamics with policy basic.\n",
      "DEBUG:qutip.logging_utils:Creating logger for qutip.control.dump with policy basic.\n",
      "DEBUG:qutip.logging_utils:Creating logger for qutip.control.tslotcomp with policy basic.\n",
      "DEBUG:qutip.logging_utils:Creating logger for qutip.control.fidcomp with policy basic.\n",
      "DEBUG:qutip.logging_utils:Creating logger for qutip.control.propcomp with policy basic.\n",
      "DEBUG:qutip.logging_utils:Creating logger for qutip.control.optimizer with policy basic.\n",
      "DEBUG:qutip.logging_utils:Creating logger for qutip.control.pulsegen with policy basic.\n",
      "DEBUG:qutip.logging_utils:Creating logger for qutip.control.loadparams with policy basic.\n",
      "DEBUG:qutip.logging_utils:Creating logger for qutip.control.pulseoptim with policy basic.\n",
      "Transform 2-level to eigenbasis and back ... ok\n",
      "Transform 10-level real-values to eigenbasis and back ... ok\n",
      "Transform 10-level to eigenbasis and back ... ok\n",
      "Transform 10-level imag to eigenbasis and back ... ok\n",
      "Consistency between transformations of kets and density matrices ... ok\n",
      "Check diagonalization via eigenbasis transformation ... ok\n",
      "Check Qobj eigs and direct eig solver transformations match ... ok\n",
      "Check Qobj eigs and direct eig solver reverse transformations match ... ok\n",
      "brmesolve: simple qubit ... ok\n",
      "brmesolve: c_ops alone ... ok\n",
      "brmesolve: c_ops with a_ops ... ok\n",
      "brmesolve: harmonic oscillator, zero temperature ... ok\n",
      "brmesolve: harmonic oscillator, finite temperature ... ok\n",
      "brmesolve: harmonic oscillator, finite temperature, states ... ok\n",
      "brmesolve: Jaynes-Cummings model, zero temperature ... ok\n",
      "brmesolve: Check for #572 bug. ... ok\n",
      "brmesolve: input list of Qobj ... ok\n",
      "td_brmesolve: passes all brmesolve tests ... ok\n",
      "td_brmesolve: time-dependent a_ops ... ok\n",
      "td_brmesolve: time-dependent a_ops tuple of strings ... ok\n",
      "td_brmesolve: time-dependent a_ops tuple interp ... ok\n",
      "td_brmesolve: time-dependent a_ops & c_ops interp ... ok\n",
      "td_brmesolve: non-Hermitian e_ops check ... ok\n",
      "td_brmesolve: states check ... ok\n",
      "td_brmesolve: split ops #1 ... ok\n",
      "td_brmesolve: split ops #2 ... ok\n",
      "td_brmesolve: split ops, Cubic_Spline td-terms ... ok\n",
      "td_brmesolve: split ops, multiple ... ok\n",
      "td_brmesolve: Hamiltonian args ... ok\n",
      "BR Tools : zheevr ... ok\n",
      "BR Tools : dense operator to eigenbasis ... ok\n",
      "BR Tools : vector to eigenbasis ... ok\n",
      "BR Tools : eigvector to fockbasis ... ok\n",
      "BR Tools : vector roundtrip transform ... ok\n",
      "BR Tools : Diagonal liouvillian mult ... ok\n",
      "BR Tools : cop_super_mult ... ok\n",
      "BR Tools : br_term_mult ... ok\n",
      "control.pulseoptim: Hadamard gate with linear initial pulses ... ok\n",
      "control.pulseoptim: Hadamard gate with linear initial pulses (no stats) ... ok\n",
      "control.pulseoptim: Hadamard gate with linear initial pulses (tau) ... ok\n",
      "control.pulseoptim: Hadamard gate with linear initial pulses (Qobj) ... ok\n",
      "control.pulseoptim: Hadamard gate with linear initial pulses (OO) ... ok\n",
      "control.pulseoptim: Hadamard gate gradient check ... ok\n",
      "control.pulseoptim: QFT gate with linear initial pulses ... ok\n",
      "control.pulseoptim: QFT gate with linear initial pulses (bounds) ... ok\n",
      "control: data dumping ... ok\n",
      "control: unitarity checking (via dump) ... ok\n",
      "control.pulseoptim: state-to-state transfer ... ok\n",
      "control.pulseoptim: state-to-state transfer (Qobj) ... ok\n",
      "control.pulseoptim: amplitude damping channel ... ok\n",
      "control.pulseoptim: coupled oscillators (symplectic dynamics) ... ok\n",
      "control.pulseoptim: Hadamard gate using CRAB algorithm ... ok\n",
      "control.pulseoptim: Hadamard gate (loading config from file) ... ok\n",
      "control.pulsegen: Check periodic control functions ... ok\n",
      "control.pulseoptim: Hadamard gate with fixed and time varying drift ... ok\n",
      "control.pulseoptim: Hadamard gate with fixed and time varying ctrls ... ok\n",
      "correlation: legacy me and es for oscillator in coherent initial state ... ok\n",
      "correlation: comparing me and es for oscillator in coherent initial state ... ok\n",
      "correlation: comparing me and mc for driven oscillator in fock state ... "
     ]
    }
   ],
   "source": [
    "import qutip.testing as qt\n",
    "qt.run()"
   ]
  },
  {
   "cell_type": "code",
   "execution_count": null,
   "metadata": {},
   "outputs": [],
   "source": [
    "\n",
    "\n"
   ]
  }
 ],
 "metadata": {
  "kernelspec": {
   "display_name": "Python 3",
   "language": "python",
   "name": "python3"
  },
  "language_info": {
   "codemirror_mode": {
    "name": "ipython",
    "version": 3
   },
   "file_extension": ".py",
   "mimetype": "text/x-python",
   "name": "python",
   "nbconvert_exporter": "python",
   "pygments_lexer": "ipython3",
   "version": "3.6.9"
  }
 },
 "nbformat": 4,
 "nbformat_minor": 2
}
